{
 "cells": [
  {
   "cell_type": "markdown",
   "metadata": {},
   "source": [
    "# git 공부 \n",
    "-------------\n",
    "파일 확인은  ls -al \n",
    "mkdir \n",
    "\n",
    "git init 관리하겠다 (폴더 내에서)\n",
    "git log 를 치면 버전들 확인 가능   \n",
    "git status 는 추적되지 않은 파일 들 확인 가능 "
   ]
  }
 ],
 "metadata": {
  "kernelspec": {
   "display_name": "Python 3",
   "language": "python",
   "name": "python3"
  },
  "language_info": {
   "codemirror_mode": {
    "name": "ipython",
    "version": 3
   },
   "file_extension": ".py",
   "mimetype": "text/x-python",
   "name": "python",
   "nbconvert_exporter": "python",
   "pygments_lexer": "ipython3",
   "version": "3.7.3"
  }
 },
 "nbformat": 4,
 "nbformat_minor": 2
}
